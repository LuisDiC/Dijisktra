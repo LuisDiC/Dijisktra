{
 "cells": [
  {
   "cell_type": "code",
   "execution_count": 130,
   "metadata": {},
   "outputs": [
    {
     "data": {
      "text/html": [
       "<div>\n",
       "<style scoped>\n",
       "    .dataframe tbody tr th:only-of-type {\n",
       "        vertical-align: middle;\n",
       "    }\n",
       "\n",
       "    .dataframe tbody tr th {\n",
       "        vertical-align: top;\n",
       "    }\n",
       "\n",
       "    .dataframe thead th {\n",
       "        text-align: right;\n",
       "    }\n",
       "</style>\n",
       "<table border=\"1\" class=\"dataframe\">\n",
       "  <thead>\n",
       "    <tr style=\"text-align: right;\">\n",
       "      <th></th>\n",
       "      <th>a</th>\n",
       "      <th>b</th>\n",
       "      <th>c</th>\n",
       "      <th>d</th>\n",
       "      <th>e</th>\n",
       "      <th>f</th>\n",
       "      <th>g</th>\n",
       "      <th>z</th>\n",
       "    </tr>\n",
       "  </thead>\n",
       "  <tbody>\n",
       "    <tr>\n",
       "      <th>a</th>\n",
       "      <td>0.0</td>\n",
       "      <td>2.0</td>\n",
       "      <td>0.0</td>\n",
       "      <td>0.0</td>\n",
       "      <td>0.0</td>\n",
       "      <td>1.0</td>\n",
       "      <td>0.0</td>\n",
       "      <td>0.0</td>\n",
       "    </tr>\n",
       "    <tr>\n",
       "      <th>b</th>\n",
       "      <td>2.0</td>\n",
       "      <td>0.0</td>\n",
       "      <td>2.0</td>\n",
       "      <td>2.0</td>\n",
       "      <td>4.0</td>\n",
       "      <td>0.0</td>\n",
       "      <td>0.0</td>\n",
       "      <td>0.0</td>\n",
       "    </tr>\n",
       "    <tr>\n",
       "      <th>c</th>\n",
       "      <td>0.0</td>\n",
       "      <td>2.0</td>\n",
       "      <td>0.0</td>\n",
       "      <td>0.0</td>\n",
       "      <td>3.0</td>\n",
       "      <td>0.0</td>\n",
       "      <td>0.0</td>\n",
       "      <td>1.0</td>\n",
       "    </tr>\n",
       "    <tr>\n",
       "      <th>d</th>\n",
       "      <td>0.0</td>\n",
       "      <td>2.0</td>\n",
       "      <td>0.0</td>\n",
       "      <td>0.0</td>\n",
       "      <td>4.0</td>\n",
       "      <td>3.0</td>\n",
       "      <td>0.0</td>\n",
       "      <td>0.0</td>\n",
       "    </tr>\n",
       "    <tr>\n",
       "      <th>e</th>\n",
       "      <td>0.0</td>\n",
       "      <td>4.0</td>\n",
       "      <td>3.0</td>\n",
       "      <td>4.0</td>\n",
       "      <td>0.0</td>\n",
       "      <td>0.0</td>\n",
       "      <td>7.0</td>\n",
       "      <td>0.0</td>\n",
       "    </tr>\n",
       "    <tr>\n",
       "      <th>f</th>\n",
       "      <td>1.0</td>\n",
       "      <td>0.0</td>\n",
       "      <td>0.0</td>\n",
       "      <td>3.0</td>\n",
       "      <td>0.0</td>\n",
       "      <td>5.0</td>\n",
       "      <td>0.0</td>\n",
       "      <td>0.0</td>\n",
       "    </tr>\n",
       "    <tr>\n",
       "      <th>g</th>\n",
       "      <td>0.0</td>\n",
       "      <td>0.0</td>\n",
       "      <td>0.0</td>\n",
       "      <td>0.0</td>\n",
       "      <td>7.0</td>\n",
       "      <td>5.0</td>\n",
       "      <td>0.0</td>\n",
       "      <td>6.0</td>\n",
       "    </tr>\n",
       "    <tr>\n",
       "      <th>z</th>\n",
       "      <td>0.0</td>\n",
       "      <td>0.0</td>\n",
       "      <td>1.0</td>\n",
       "      <td>0.0</td>\n",
       "      <td>0.0</td>\n",
       "      <td>6.0</td>\n",
       "      <td>0.0</td>\n",
       "      <td>0.0</td>\n",
       "    </tr>\n",
       "  </tbody>\n",
       "</table>\n",
       "</div>"
      ],
      "text/plain": [
       "     a    b    c    d    e    f    g    z\n",
       "a  0.0  2.0  0.0  0.0  0.0  1.0  0.0  0.0\n",
       "b  2.0  0.0  2.0  2.0  4.0  0.0  0.0  0.0\n",
       "c  0.0  2.0  0.0  0.0  3.0  0.0  0.0  1.0\n",
       "d  0.0  2.0  0.0  0.0  4.0  3.0  0.0  0.0\n",
       "e  0.0  4.0  3.0  4.0  0.0  0.0  7.0  0.0\n",
       "f  1.0  0.0  0.0  3.0  0.0  5.0  0.0  0.0\n",
       "g  0.0  0.0  0.0  0.0  7.0  5.0  0.0  6.0\n",
       "z  0.0  0.0  1.0  0.0  0.0  6.0  0.0  0.0"
      ]
     },
     "execution_count": 130,
     "metadata": {},
     "output_type": "execute_result"
    }
   ],
   "source": [
    "import pandas as pd\n",
    "import numpy as np\n",
    "grafo= pd.read_excel('dijikstra.xlsx', sheet_name='dijikstra',index_col=0)\n",
    "grafo = grafo.fillna(0)\n",
    "w = grafo\n",
    "V=list(grafo.keys())\n",
    "T = list(grafo.keys())\n",
    "i=0\n",
    "L={}\n",
    "for x in T:\n",
    "      L[x]=i\n",
    "      i+=1\n",
    "a = 'a'\n",
    "z=V[-1]\n",
    "grafo\n",
    "\n"
   ]
  },
  {
   "cell_type": "code",
   "execution_count": 131,
   "metadata": {},
   "outputs": [
    {
     "data": {
      "text/plain": [
       "{'a': 0, 'b': 1, 'c': 2, 'd': 3, 'e': 4, 'f': 5, 'g': 6, 'z': 7}"
      ]
     },
     "execution_count": 131,
     "metadata": {},
     "output_type": "execute_result"
    }
   ],
   "source": [
    "min(w['a']['b'],3)\n",
    "\n",
    "\n",
    "L"
   ]
  },
  {
   "cell_type": "code",
   "execution_count": 132,
   "metadata": {},
   "outputs": [
    {
     "data": {
      "text/plain": [
       "dict_items([('a', 0), ('b', inf), ('c', inf), ('d', inf), ('e', inf), ('f', inf), ('g', inf), ('z', inf)])"
      ]
     },
     "execution_count": 132,
     "metadata": {},
     "output_type": "execute_result"
    }
   ],
   "source": [
    "\n",
    "\n",
    "\n",
    "for x in T: \n",
    "        L[x]=np.inf\n",
    "L['a']=0\n",
    "\n",
    "\n",
    "min(L, key=L.get)\n",
    "L.items()"
   ]
  },
  {
   "cell_type": "code",
   "execution_count": 133,
   "metadata": {},
   "outputs": [
    {
     "name": "stdout",
     "output_type": "stream",
     "text": [
      "['a', 'b', 'c', 'd', 'e', 'f', 'g', 'z']\n",
      "Hola\n",
      "['b', 'c', 'd', 'e', 'f', 'g', 'z']\n",
      "2.0\n",
      "{'a': 0, 'b': np.float64(2.0), 'c': inf, 'd': inf, 'e': inf, 'f': inf, 'g': inf, 'z': inf}\n",
      "1.0\n",
      "{'a': 0, 'b': np.float64(2.0), 'c': inf, 'd': inf, 'e': inf, 'f': np.float64(1.0), 'g': inf, 'z': inf}\n",
      "Hola\n",
      "Hola\n",
      "['b', 'c', 'd', 'e', 'g', 'z']\n",
      "3.0\n",
      "{'a': inf, 'b': np.float64(2.0), 'c': inf, 'd': np.float64(4.0), 'e': inf, 'f': np.float64(1.0), 'g': inf, 'z': inf}\n",
      "5.0\n",
      "{'a': inf, 'b': np.float64(2.0), 'c': inf, 'd': np.float64(4.0), 'e': inf, 'f': np.float64(1.0), 'g': np.float64(6.0), 'z': inf}\n",
      "6.0\n",
      "{'a': inf, 'b': np.float64(2.0), 'c': inf, 'd': np.float64(4.0), 'e': inf, 'f': np.float64(1.0), 'g': np.float64(6.0), 'z': np.float64(7.0)}\n",
      "Hola\n",
      "Hola\n",
      "['c', 'd', 'e', 'g', 'z']\n",
      "2.0\n",
      "{'a': inf, 'b': np.float64(2.0), 'c': np.float64(4.0), 'd': np.float64(4.0), 'e': inf, 'f': inf, 'g': np.float64(6.0), 'z': np.float64(7.0)}\n",
      "2.0\n",
      "{'a': inf, 'b': np.float64(2.0), 'c': np.float64(4.0), 'd': np.float64(4.0), 'e': inf, 'f': inf, 'g': np.float64(6.0), 'z': np.float64(7.0)}\n",
      "4.0\n",
      "{'a': inf, 'b': np.float64(2.0), 'c': np.float64(4.0), 'd': np.float64(4.0), 'e': np.float64(6.0), 'f': inf, 'g': np.float64(6.0), 'z': np.float64(7.0)}\n",
      "Hola\n",
      "Hola\n",
      "['d', 'e', 'g', 'z']\n",
      "3.0\n",
      "{'a': inf, 'b': inf, 'c': np.float64(4.0), 'd': np.float64(4.0), 'e': np.float64(6.0), 'f': inf, 'g': np.float64(6.0), 'z': np.float64(7.0)}\n",
      "1.0\n",
      "{'a': inf, 'b': inf, 'c': np.float64(4.0), 'd': np.float64(4.0), 'e': np.float64(6.0), 'f': inf, 'g': np.float64(6.0), 'z': np.float64(5.0)}\n",
      "Hola\n",
      "Hola\n",
      "['e', 'g', 'z']\n",
      "4.0\n",
      "{'a': inf, 'b': inf, 'c': inf, 'd': np.float64(4.0), 'e': np.float64(6.0), 'f': inf, 'g': np.float64(6.0), 'z': np.float64(5.0)}\n",
      "Hola\n",
      "Hola\n",
      "['e', 'g']\n",
      "6.0\n",
      "{'a': inf, 'b': inf, 'c': inf, 'd': inf, 'e': np.float64(6.0), 'f': inf, 'g': np.float64(6.0), 'z': np.float64(5.0)}\n",
      "La ruta con menor coste hacía z es:  5.0\n"
     ]
    }
   ],
   "source": [
    "print(T)\n",
    "Flag = True\n",
    "while z in T: \n",
    "    print('Hola')\n",
    "    try:\n",
    "        min_key = min(L, key=L.get) \n",
    "        v = T[T.index(min_key)]\n",
    "        T.remove(v)\n",
    "        print(T)\n",
    "        for x in T:\n",
    "            if (w[v][x]>0):\n",
    "                print(w[v][x])\n",
    "                L[x]=min(L[x],L[v]+w[v][x])\n",
    "                print(L)\n",
    "    except:\n",
    "        L[min_key]=np.inf\n",
    "        pass\n",
    "\n",
    "print('La ruta con menor coste hacía z es: ', float(L['z']) )\n",
    "\n",
    "            \n",
    "               \n",
    "      \n",
    "\n"
   ]
  },
  {
   "cell_type": "code",
   "execution_count": 134,
   "metadata": {},
   "outputs": [
    {
     "data": {
      "text/plain": [
       "{'a': inf,\n",
       " 'b': inf,\n",
       " 'c': inf,\n",
       " 'd': inf,\n",
       " 'e': np.float64(6.0),\n",
       " 'f': inf,\n",
       " 'g': np.float64(6.0),\n",
       " 'z': np.float64(5.0)}"
      ]
     },
     "execution_count": 134,
     "metadata": {},
     "output_type": "execute_result"
    }
   ],
   "source": [
    "min(L)\n",
    "L"
   ]
  },
  {
   "cell_type": "markdown",
   "metadata": {},
   "source": []
  }
 ],
 "metadata": {
  "kernelspec": {
   "display_name": "Gato",
   "language": "python",
   "name": "python3"
  },
  "language_info": {
   "codemirror_mode": {
    "name": "ipython",
    "version": 3
   },
   "file_extension": ".py",
   "mimetype": "text/x-python",
   "name": "python",
   "nbconvert_exporter": "python",
   "pygments_lexer": "ipython3",
   "version": "3.12.4"
  }
 },
 "nbformat": 4,
 "nbformat_minor": 2
}
